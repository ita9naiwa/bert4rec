{
 "cells": [
  {
   "cell_type": "code",
   "execution_count": 1,
   "metadata": {},
   "outputs": [],
   "source": [
    "import implicit\n",
    "from implicit.datasets.movielens import get_movielens\n",
    "from implicit.evaluation import train_test_split, ndcg_at_k\n",
    "from implicit.als import AlternatingLeastSquares as ALS\n",
    "import numpy as np\n",
    "import torch\n",
    "from torch import nn\n",
    "import os\n",
    "os.environ['KMP_DUPLICATE_LIB_OK']='True'\n",
    "\n",
    "import torch\n",
    "import bertLoader\n",
    "from torch.utils.data import DataLoader, Dataset\n",
    "from bertModel import BertRec\n",
    "from torch import optim"
   ]
  },
  {
   "cell_type": "code",
   "execution_count": 2,
   "metadata": {},
   "outputs": [],
   "source": [
    "_, ratings = get_movielens(variant='100k')"
   ]
  },
  {
   "cell_type": "code",
   "execution_count": 3,
   "metadata": {},
   "outputs": [],
   "source": [
    "ui_mat = ratings.T.tocsr()\n",
    "#ui_mat[ui_mat] = 0\n",
    "ui_mat.eliminate_zeros()"
   ]
  },
  {
   "cell_type": "code",
   "execution_count": 4,
   "metadata": {},
   "outputs": [],
   "source": [
    "tr, te = train_test_split(ui_mat, 0.8)"
   ]
  },
  {
   "cell_type": "code",
   "execution_count": 17,
   "metadata": {},
   "outputs": [],
   "source": [
    "n_users, n_items = ui_mat.shape\n",
    "emb_size = 128\n",
    "feedforward_size=64\n",
    "max_seq_len=100"
   ]
  },
  {
   "cell_type": "code",
   "execution_count": 18,
   "metadata": {},
   "outputs": [],
   "source": [
    "loader = DataLoader(bertLoader.BertDataset(tr, max_seq_len=150),\n",
    "                    batch_size=16, shuffle=True, num_workers=4)"
   ]
  },
  {
   "cell_type": "code",
   "execution_count": 19,
   "metadata": {
    "scrolled": false
   },
   "outputs": [],
   "source": [
    "import importlib\n",
    "import bertModel as bb\n",
    "importlib.reload(bb)\n",
    "model = bb.BertRec(\n",
    "    n_users=n_users,\n",
    "    n_items=n_items,\n",
    "    max_seq_len=max_seq_len,\n",
    "    emb_size=emb_size,\n",
    "    feedforward_size=feedforward_size,\n",
    "    dropout=0.1)\n",
    "optimizer = optim.Adam(model.parameters(), lr=3.0 * 1e-3, weight_decay=1e-3)"
   ]
  },
  {
   "cell_type": "code",
   "execution_count": 20,
   "metadata": {
    "scrolled": true
   },
   "outputs": [
    {
     "data": {
      "application/vnd.jupyter.widget-view+json": {
       "model_id": "b45b0e2cf255442e890262352182eaa6",
       "version_major": 2,
       "version_minor": 0
      },
      "text/plain": [
       "HBox(children=(IntProgress(value=0, max=59), HTML(value='')))"
      ]
     },
     "metadata": {},
     "output_type": "display_data"
    },
    {
     "name": "stdout",
     "output_type": "stream",
     "text": [
      "7.99627\n",
      "7.99186\n",
      "7.9857492\n",
      "7.979975\n",
      "7.971876\n",
      "7.965162\n",
      "7.960417\n",
      "7.9518213\n",
      "7.9440207\n",
      "7.9345593\n",
      "7.9241633\n",
      "7.9155507\n",
      "7.9061112\n",
      "7.899106\n",
      "7.888033\n",
      "7.879618\n",
      "7.867772\n",
      "7.858203\n",
      "7.850137\n",
      "7.842697\n",
      "7.8328314\n",
      "7.8212805\n",
      "7.8130326\n",
      "7.801161\n",
      "7.793141\n",
      "7.782863\n",
      "7.7710524\n",
      "7.762384\n",
      "7.7573895\n",
      "7.745642\n",
      "7.7355886\n",
      "7.7268744\n",
      "7.7175326\n",
      "7.708368\n",
      "7.6998525\n",
      "7.691169\n",
      "7.682672\n",
      "7.671558\n",
      "7.6625395\n",
      "7.6495233\n",
      "7.640902\n",
      "7.6308203\n",
      "7.6238933\n",
      "7.616944\n",
      "7.6056046\n",
      "7.5965977\n",
      "7.588308\n",
      "7.5777893\n",
      "7.568141\n",
      "7.561624\n",
      "7.5523105\n",
      "7.5415416\n",
      "7.5311837\n",
      "7.5248365\n",
      "7.5196795\n",
      "7.507875\n",
      "7.503026\n",
      "7.491064\n",
      "7.481606\n",
      "\n"
     ]
    },
    {
     "data": {
      "application/vnd.jupyter.widget-view+json": {
       "model_id": "c5acaf7d1c6e4a058bb706f7c36210a5",
       "version_major": 2,
       "version_minor": 0
      },
      "text/plain": [
       "HBox(children=(IntProgress(value=0, max=59), HTML(value='')))"
      ]
     },
     "metadata": {},
     "output_type": "display_data"
    },
    {
     "name": "stdout",
     "output_type": "stream",
     "text": [
      "7.4748383\n",
      "7.4699306\n",
      "7.460923\n",
      "7.449772\n",
      "7.4412265\n",
      "7.435448\n",
      "7.425819\n",
      "7.416005\n",
      "7.406413\n",
      "7.3958883\n",
      "7.3859735\n",
      "7.3777237\n",
      "7.36708\n",
      "7.3579426\n",
      "7.349309\n",
      "7.342278\n",
      "7.334754\n",
      "7.3248954\n",
      "7.316028\n",
      "7.309372\n",
      "7.306459\n",
      "7.2989483\n",
      "7.287059\n",
      "7.2761517\n",
      "7.2657166\n",
      "7.258338\n",
      "7.2486725\n",
      "7.2416587\n",
      "7.2348056\n",
      "7.227989\n",
      "7.2222333\n",
      "7.215461\n",
      "7.2082505\n",
      "7.203468\n",
      "7.198775\n",
      "7.19124\n",
      "7.183828\n",
      "7.177853\n",
      "7.1709094\n",
      "7.1673846\n",
      "7.159228\n",
      "7.152033\n",
      "7.1480703\n",
      "7.1415606\n",
      "7.1338973\n",
      "7.127071\n",
      "7.12108\n",
      "7.11309\n",
      "7.1043386\n",
      "7.0969243\n",
      "7.0876164\n",
      "7.0796614\n",
      "7.0771437\n",
      "7.072827\n",
      "7.064092\n",
      "7.0580716\n",
      "7.0535088\n",
      "7.0465302\n",
      "7.0423503\n",
      "\n"
     ]
    },
    {
     "data": {
      "application/vnd.jupyter.widget-view+json": {
       "model_id": "f7a257cd047a48969d3306c998b5b509",
       "version_major": 2,
       "version_minor": 0
      },
      "text/plain": [
       "HBox(children=(IntProgress(value=0, max=59), HTML(value='')))"
      ]
     },
     "metadata": {},
     "output_type": "display_data"
    },
    {
     "name": "stdout",
     "output_type": "stream",
     "text": [
      "7.0378127\n",
      "7.0349503\n",
      "7.03195\n",
      "7.026269\n",
      "7.021832\n",
      "7.018172\n",
      "7.0104566\n",
      "7.006485\n",
      "7.0021477\n",
      "6.9958653\n",
      "6.992314\n",
      "6.9838667\n",
      "6.9767685\n",
      "6.968591\n",
      "6.9603024\n",
      "6.9544168\n",
      "6.951351\n",
      "6.946294\n",
      "6.9435687\n",
      "6.939469\n",
      "6.9347754\n",
      "6.9303417\n",
      "6.9252295\n",
      "6.9218936\n",
      "6.913263\n",
      "6.9093676\n",
      "6.9067283\n",
      "6.8956375\n",
      "6.8899665\n",
      "6.8805027\n",
      "6.8740153\n",
      "6.8660946\n",
      "6.861827\n",
      "6.8526587\n",
      "6.8473234\n",
      "6.844595\n",
      "6.8367476\n",
      "6.8316355\n",
      "6.829711\n",
      "6.8255754\n",
      "6.823358\n",
      "6.8168006\n",
      "6.813657\n",
      "6.812014\n",
      "6.81085\n",
      "6.810689\n",
      "6.8099003\n",
      "6.805939\n",
      "6.801617\n",
      "6.7947407\n",
      "6.7902255\n",
      "6.7855616\n",
      "6.78441\n",
      "6.7825856\n",
      "6.7780027\n",
      "6.768225\n",
      "6.7605195\n",
      "6.7585907\n",
      "6.754439\n",
      "\n"
     ]
    },
    {
     "data": {
      "application/vnd.jupyter.widget-view+json": {
       "model_id": "d8c0b1b0d8a446f795a4ac10b3105b99",
       "version_major": 2,
       "version_minor": 0
      },
      "text/plain": [
       "HBox(children=(IntProgress(value=0, max=59), HTML(value='')))"
      ]
     },
     "metadata": {},
     "output_type": "display_data"
    },
    {
     "name": "stdout",
     "output_type": "stream",
     "text": [
      "6.753324\n",
      "6.7499094\n",
      "6.744812\n",
      "6.7433643\n",
      "6.7373433\n",
      "6.7326593\n",
      "6.727859\n",
      "6.7251887\n",
      "6.72075\n",
      "6.7159553\n",
      "6.714867\n",
      "6.712444\n",
      "6.7065654\n",
      "6.6994104\n",
      "6.6940823\n",
      "6.690266\n",
      "6.684942\n",
      "6.682516\n",
      "6.676385\n",
      "6.6714478\n",
      "6.6703243\n",
      "6.6692824\n",
      "6.6668496\n",
      "6.663324\n",
      "6.66108\n",
      "6.656961\n",
      "6.6523457\n",
      "6.6480246\n",
      "6.6423573\n",
      "6.641162\n",
      "6.640342\n",
      "6.6377835\n",
      "6.6326246\n",
      "6.6306915\n",
      "6.624985\n",
      "6.623805\n",
      "6.621975\n",
      "6.6170425\n",
      "6.615649\n",
      "6.6133833\n",
      "6.6110835\n",
      "6.6144395\n",
      "6.610296\n",
      "6.609548\n",
      "6.608834\n",
      "6.601204\n",
      "6.5998273\n",
      "6.597242\n",
      "6.595106\n",
      "6.590642\n",
      "6.583714\n",
      "6.581155\n",
      "6.5809584\n",
      "6.579638\n",
      "6.579351\n",
      "6.5755563\n",
      "6.5746045\n",
      "6.5686026\n",
      "6.568342\n",
      "\n"
     ]
    },
    {
     "data": {
      "application/vnd.jupyter.widget-view+json": {
       "model_id": "8853d716c5af420f8ec2cce8f02f2f07",
       "version_major": 2,
       "version_minor": 0
      },
      "text/plain": [
       "HBox(children=(IntProgress(value=0, max=59), HTML(value='')))"
      ]
     },
     "metadata": {},
     "output_type": "display_data"
    },
    {
     "name": "stdout",
     "output_type": "stream",
     "text": [
      "6.5644956\n",
      "6.5625734\n",
      "6.5611687\n",
      "6.5623665\n",
      "6.560387\n",
      "6.561021\n",
      "6.5574746\n",
      "6.557943\n",
      "6.555163\n",
      "6.549593\n",
      "6.5484753\n",
      "6.54477\n",
      "6.541908\n",
      "6.5405397\n",
      "6.5402775\n",
      "6.5381737\n",
      "6.5319695\n",
      "6.5329866\n",
      "6.5271864\n",
      "6.525945\n",
      "6.527701\n",
      "6.5290995\n",
      "6.5262675\n",
      "6.523162\n",
      "6.5216923\n",
      "6.515396\n",
      "6.509555\n",
      "6.5068984\n",
      "6.5014577\n",
      "6.5011353\n",
      "6.498776\n",
      "6.4957805\n",
      "6.497727\n",
      "6.493301\n",
      "6.489807\n",
      "6.487246\n",
      "6.488042\n",
      "6.4899826\n",
      "6.484983\n",
      "6.4806433\n",
      "6.4790854\n",
      "6.477517\n",
      "6.4735765\n",
      "6.4685063\n",
      "6.4642715\n",
      "6.462458\n",
      "6.463208\n",
      "6.46284\n",
      "6.4607587\n",
      "6.45798\n",
      "6.4557652\n",
      "6.453726\n",
      "6.452718\n",
      "6.4507484\n",
      "6.4514194\n",
      "6.4508557\n",
      "6.4479465\n",
      "6.445388\n",
      "6.4437013\n",
      "\n"
     ]
    }
   ],
   "source": [
    "from tqdm.auto import tqdm\n",
    "r_l = 8\n",
    "model.is_traing =True\n",
    "for _ in range(5):\n",
    "    for base, neg, neg_t in tqdm(loader):\n",
    "        optimizer.zero_grad()\n",
    "        loss = model.train_(base, neg, neg_t)\n",
    "        loss.backward()\n",
    "        optimizer.step()\n",
    "        r_l = 0.99 * r_l + 0.01 * loss\n",
    "        print(r_l.detach().numpy())"
   ]
  },
  {
   "cell_type": "code",
   "execution_count": 21,
   "metadata": {},
   "outputs": [],
   "source": [
    "model = model.eval()"
   ]
  },
  {
   "cell_type": "code",
   "execution_count": 22,
   "metadata": {},
   "outputs": [],
   "source": [
    "import itertools\n",
    "class rec_wrapper(object):\n",
    "    def __init__(self, tr, te, model):\n",
    "        self.tr = tr\n",
    "        self.te = te \n",
    "        self.model = model\n",
    "    \n",
    "    def recommend(self, u, train_user_items, N=10):\n",
    "        scores = self.model.recommend(self.tr[u].indices, K=N)\n",
    "        liked = set()\n",
    "        liked.update(train_user_items[u].indices)\n",
    "        count = N + len(liked)\n",
    "        ids = np.argpartition(scores, -count)[-count:]\n",
    "        best = sorted(zip(ids, scores[ids]), key=lambda x: -x[1])\n",
    "        return list(itertools.islice((rec for rec in best if rec[0] not in liked), N))\n"
   ]
  },
  {
   "cell_type": "code",
   "execution_count": 23,
   "metadata": {},
   "outputs": [],
   "source": [
    "w = rec_wrapper(tr, te, model)"
   ]
  },
  {
   "cell_type": "code",
   "execution_count": 24,
   "metadata": {},
   "outputs": [
    {
     "data": {
      "application/vnd.jupyter.widget-view+json": {
       "model_id": "e4c9ec348f3845928da7d9ccc18a1e24",
       "version_major": 2,
       "version_minor": 0
      },
      "text/plain": [
       "HBox(children=(IntProgress(value=0, max=944), HTML(value='')))"
      ]
     },
     "metadata": {},
     "output_type": "display_data"
    },
    {
     "name": "stdout",
     "output_type": "stream",
     "text": [
      "\n"
     ]
    },
    {
     "data": {
      "text/plain": [
       "0.2758420826093234"
      ]
     },
     "execution_count": 24,
     "metadata": {},
     "output_type": "execute_result"
    }
   ],
   "source": [
    "ndcg_at_k(w, tr, te, K=10)"
   ]
  },
  {
   "cell_type": "code",
   "execution_count": null,
   "metadata": {},
   "outputs": [],
   "source": []
  }
 ],
 "metadata": {
  "kernelspec": {
   "display_name": "Python 3",
   "language": "python",
   "name": "python3"
  },
  "language_info": {
   "codemirror_mode": {
    "name": "ipython",
    "version": 3
   },
   "file_extension": ".py",
   "mimetype": "text/x-python",
   "name": "python",
   "nbconvert_exporter": "python",
   "pygments_lexer": "ipython3",
   "version": "3.7.3"
  }
 },
 "nbformat": 4,
 "nbformat_minor": 2
}
